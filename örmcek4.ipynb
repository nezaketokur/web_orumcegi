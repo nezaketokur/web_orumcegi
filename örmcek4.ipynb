{
  "nbformat": 4,
  "nbformat_minor": 0,
  "metadata": {
    "colab": {
      "provenance": [],
      "include_colab_link": true
    },
    "kernelspec": {
      "name": "python3",
      "display_name": "Python 3"
    },
    "language_info": {
      "name": "python"
    },
    "widgets": {
      "application/vnd.jupyter.widget-state+json": {
        "ef9a96697c9f46e38da40303c30eaf97": {
          "model_module": "@jupyter-widgets/controls",
          "model_name": "TextModel",
          "model_module_version": "1.5.0",
          "state": {
            "_dom_classes": [],
            "_model_module": "@jupyter-widgets/controls",
            "_model_module_version": "1.5.0",
            "_model_name": "TextModel",
            "_view_count": null,
            "_view_module": "@jupyter-widgets/controls",
            "_view_module_version": "1.5.0",
            "_view_name": "TextView",
            "continuous_update": true,
            "description": "URL:",
            "description_tooltip": null,
            "disabled": false,
            "layout": "IPY_MODEL_072c765109d448cb8843249882161223",
            "placeholder": "Başlangıç URL adresini girin",
            "style": "IPY_MODEL_62babf3fbee94b1fbfcb0477b577d505",
            "value": "https://www.example.com"
          }
        },
        "072c765109d448cb8843249882161223": {
          "model_module": "@jupyter-widgets/base",
          "model_name": "LayoutModel",
          "model_module_version": "1.2.0",
          "state": {
            "_model_module": "@jupyter-widgets/base",
            "_model_module_version": "1.2.0",
            "_model_name": "LayoutModel",
            "_view_count": null,
            "_view_module": "@jupyter-widgets/base",
            "_view_module_version": "1.2.0",
            "_view_name": "LayoutView",
            "align_content": null,
            "align_items": null,
            "align_self": null,
            "border": null,
            "bottom": null,
            "display": null,
            "flex": null,
            "flex_flow": null,
            "grid_area": null,
            "grid_auto_columns": null,
            "grid_auto_flow": null,
            "grid_auto_rows": null,
            "grid_column": null,
            "grid_gap": null,
            "grid_row": null,
            "grid_template_areas": null,
            "grid_template_columns": null,
            "grid_template_rows": null,
            "height": null,
            "justify_content": null,
            "justify_items": null,
            "left": null,
            "margin": null,
            "max_height": null,
            "max_width": null,
            "min_height": null,
            "min_width": null,
            "object_fit": null,
            "object_position": null,
            "order": null,
            "overflow": null,
            "overflow_x": null,
            "overflow_y": null,
            "padding": null,
            "right": null,
            "top": null,
            "visibility": null,
            "width": null
          }
        },
        "62babf3fbee94b1fbfcb0477b577d505": {
          "model_module": "@jupyter-widgets/controls",
          "model_name": "DescriptionStyleModel",
          "model_module_version": "1.5.0",
          "state": {
            "_model_module": "@jupyter-widgets/controls",
            "_model_module_version": "1.5.0",
            "_model_name": "DescriptionStyleModel",
            "_view_count": null,
            "_view_module": "@jupyter-widgets/base",
            "_view_module_version": "1.2.0",
            "_view_name": "StyleView",
            "description_width": ""
          }
        },
        "074108e08a3b40c4b55b7c64569154d9": {
          "model_module": "@jupyter-widgets/controls",
          "model_name": "IntTextModel",
          "model_module_version": "1.5.0",
          "state": {
            "_dom_classes": [],
            "_model_module": "@jupyter-widgets/controls",
            "_model_module_version": "1.5.0",
            "_model_name": "IntTextModel",
            "_view_count": null,
            "_view_module": "@jupyter-widgets/controls",
            "_view_module_version": "1.5.0",
            "_view_name": "IntTextView",
            "continuous_update": false,
            "description": "Derinlik:",
            "description_tooltip": null,
            "disabled": false,
            "layout": "IPY_MODEL_75f7d1f045d5466a8d024ee9f8cfbeaf",
            "step": 1,
            "style": "IPY_MODEL_b8f1eb9aad07404fb847e00f94551513",
            "value": 1
          }
        },
        "75f7d1f045d5466a8d024ee9f8cfbeaf": {
          "model_module": "@jupyter-widgets/base",
          "model_name": "LayoutModel",
          "model_module_version": "1.2.0",
          "state": {
            "_model_module": "@jupyter-widgets/base",
            "_model_module_version": "1.2.0",
            "_model_name": "LayoutModel",
            "_view_count": null,
            "_view_module": "@jupyter-widgets/base",
            "_view_module_version": "1.2.0",
            "_view_name": "LayoutView",
            "align_content": null,
            "align_items": null,
            "align_self": null,
            "border": null,
            "bottom": null,
            "display": null,
            "flex": null,
            "flex_flow": null,
            "grid_area": null,
            "grid_auto_columns": null,
            "grid_auto_flow": null,
            "grid_auto_rows": null,
            "grid_column": null,
            "grid_gap": null,
            "grid_row": null,
            "grid_template_areas": null,
            "grid_template_columns": null,
            "grid_template_rows": null,
            "height": null,
            "justify_content": null,
            "justify_items": null,
            "left": null,
            "margin": null,
            "max_height": null,
            "max_width": null,
            "min_height": null,
            "min_width": null,
            "object_fit": null,
            "object_position": null,
            "order": null,
            "overflow": null,
            "overflow_x": null,
            "overflow_y": null,
            "padding": null,
            "right": null,
            "top": null,
            "visibility": null,
            "width": null
          }
        },
        "b8f1eb9aad07404fb847e00f94551513": {
          "model_module": "@jupyter-widgets/controls",
          "model_name": "DescriptionStyleModel",
          "model_module_version": "1.5.0",
          "state": {
            "_model_module": "@jupyter-widgets/controls",
            "_model_module_version": "1.5.0",
            "_model_name": "DescriptionStyleModel",
            "_view_count": null,
            "_view_module": "@jupyter-widgets/base",
            "_view_module_version": "1.2.0",
            "_view_name": "StyleView",
            "description_width": ""
          }
        },
        "4e64c71156f8447dbd11f54e2a42a904": {
          "model_module": "@jupyter-widgets/controls",
          "model_name": "ButtonModel",
          "model_module_version": "1.5.0",
          "state": {
            "_dom_classes": [],
            "_model_module": "@jupyter-widgets/controls",
            "_model_module_version": "1.5.0",
            "_model_name": "ButtonModel",
            "_view_count": null,
            "_view_module": "@jupyter-widgets/controls",
            "_view_module_version": "1.5.0",
            "_view_name": "ButtonView",
            "button_style": "",
            "description": "Başlat",
            "disabled": false,
            "icon": "",
            "layout": "IPY_MODEL_ae91aa55d7d941828ae5821dce14ab4d",
            "style": "IPY_MODEL_5e12c0eb217a44cb867485ebb2821ce5",
            "tooltip": ""
          }
        },
        "ae91aa55d7d941828ae5821dce14ab4d": {
          "model_module": "@jupyter-widgets/base",
          "model_name": "LayoutModel",
          "model_module_version": "1.2.0",
          "state": {
            "_model_module": "@jupyter-widgets/base",
            "_model_module_version": "1.2.0",
            "_model_name": "LayoutModel",
            "_view_count": null,
            "_view_module": "@jupyter-widgets/base",
            "_view_module_version": "1.2.0",
            "_view_name": "LayoutView",
            "align_content": null,
            "align_items": null,
            "align_self": null,
            "border": null,
            "bottom": null,
            "display": null,
            "flex": null,
            "flex_flow": null,
            "grid_area": null,
            "grid_auto_columns": null,
            "grid_auto_flow": null,
            "grid_auto_rows": null,
            "grid_column": null,
            "grid_gap": null,
            "grid_row": null,
            "grid_template_areas": null,
            "grid_template_columns": null,
            "grid_template_rows": null,
            "height": null,
            "justify_content": null,
            "justify_items": null,
            "left": null,
            "margin": null,
            "max_height": null,
            "max_width": null,
            "min_height": null,
            "min_width": null,
            "object_fit": null,
            "object_position": null,
            "order": null,
            "overflow": null,
            "overflow_x": null,
            "overflow_y": null,
            "padding": null,
            "right": null,
            "top": null,
            "visibility": null,
            "width": null
          }
        },
        "5e12c0eb217a44cb867485ebb2821ce5": {
          "model_module": "@jupyter-widgets/controls",
          "model_name": "ButtonStyleModel",
          "model_module_version": "1.5.0",
          "state": {
            "_model_module": "@jupyter-widgets/controls",
            "_model_module_version": "1.5.0",
            "_model_name": "ButtonStyleModel",
            "_view_count": null,
            "_view_module": "@jupyter-widgets/base",
            "_view_module_version": "1.2.0",
            "_view_name": "StyleView",
            "button_color": null,
            "font_weight": ""
          }
        }
      }
    }
  },
  "cells": [
    {
      "cell_type": "markdown",
      "metadata": {
        "id": "view-in-github",
        "colab_type": "text"
      },
      "source": [
        "<a href=\"https://colab.research.google.com/github/nezaketokur/web_orumcegi/blob/main/%C3%B6rmcek4.ipynb\" target=\"_parent\"><img src=\"https://colab.research.google.com/assets/colab-badge.svg\" alt=\"Open In Colab\"/></a>"
      ]
    },
    {
      "cell_type": "code",
      "execution_count": null,
      "metadata": {
        "id": "AQ5pwNmf9UZq"
      },
      "outputs": [],
      "source": [
        "from bs4 import BeautifulSoup\n",
        "import requests\n",
        "from IPython.display import display\n",
        "import ipywidgets as widgets\n",
        "import os"
      ]
    },
    {
      "cell_type": "code",
      "source": [
        "def web_scraper(start_url, max_depth):\n",
        "    visited = set()\n",
        "    results = []\n",
        "\n",
        "    def crawl(url, depth):\n",
        "        if depth > max_depth or url in visited:\n",
        "            return\n",
        "\n",
        "        try:\n",
        "            # URL'yi ziyaret edip HTML içeriğini al\n",
        "            response = requests.get(url)\n",
        "            soup = BeautifulSoup(response.text, 'html.parser')\n",
        "\n",
        "            # Sayfanın başlığını al\n",
        "            title = soup.title.string if soup.title else 'Başlık bulunamadı'\n",
        "\n",
        "            # Ziyaret edilen sayfayı kaydet\n",
        "            results.append((url, title, depth))\n",
        "            visited.add(url)\n",
        "\n",
        "            # Aynı sayfadaki tüm linkleri bul ve bir sonraki derinlikte tarama yap\n",
        "            for link in soup.find_all('a', href=True):\n",
        "                next_url = link['href']\n",
        "                if next_url.startswith('http'):\n",
        "                    crawl(next_url, depth + 1)\n",
        "\n",
        "        except Exception as e:\n",
        "            print(f\"Hata: {e} - {url}\")\n",
        "\n",
        "    # İlk URL ile taramayı başlat\n",
        "    crawl(start_url, 1)\n",
        "\n",
        "    # Tüm sonuçları bir txt dosyasına yaz\n",
        "    with open('web_scrape_results.txt', 'w') as f:\n",
        "        for url, title, depth in results:\n",
        "            f.write(f'Seviyeye Göre: {depth}\\n')\n",
        "            f.write(f'URL: {url}\\n')\n",
        "            f.write(f'Başlık: {title}\\n\\n')\n",
        "\n",
        "    print(\"Tarama tamamlandı, sonuçlar web_scrape_results.txt dosyasına kaydedildi.\")\n"
      ],
      "metadata": {
        "id": "eoC4I4H--tzQ"
      },
      "execution_count": null,
      "outputs": []
    },
    {
      "cell_type": "code",
      "source": [
        "def on_button_clicked(b):\n",
        "    start_url = url_input.value\n",
        "    max_depth = depth_input.value\n",
        "    web_scraper(start_url, max_depth)\n",
        "\n",
        "submit_button.on_click(on_button_clicked)\n"
      ],
      "metadata": {
        "id": "jdiMVFSF-wgV"
      },
      "execution_count": null,
      "outputs": []
    },
    {
      "cell_type": "code",
      "source": [
        "# Kullanıcıdan veri almak için form elemanlarını tanımlıyoruz\n",
        "url_input = widgets.Text(\n",
        "    value='https://www.example.com',\n",
        "    placeholder='Başlangıç URL adresini girin',\n",
        "    description='URL:',\n",
        "    disabled=False\n",
        ")\n",
        "\n",
        "depth_input = widgets.IntText(\n",
        "    value=1,\n",
        "    description='Derinlik:',\n",
        "    disabled=False\n",
        ")\n",
        "\n",
        "submit_button = widgets.Button(description=\"Başlat\")\n",
        "\n",
        "# Formu ekranda göstermek için\n",
        "display(url_input, depth_input, submit_button)\n"
      ],
      "metadata": {
        "colab": {
          "base_uri": "https://localhost:8080/",
          "height": 128,
          "referenced_widgets": [
            "ef9a96697c9f46e38da40303c30eaf97",
            "072c765109d448cb8843249882161223",
            "62babf3fbee94b1fbfcb0477b577d505",
            "074108e08a3b40c4b55b7c64569154d9",
            "75f7d1f045d5466a8d024ee9f8cfbeaf",
            "b8f1eb9aad07404fb847e00f94551513",
            "4e64c71156f8447dbd11f54e2a42a904",
            "ae91aa55d7d941828ae5821dce14ab4d",
            "5e12c0eb217a44cb867485ebb2821ce5"
          ]
        },
        "id": "aeVjzdNO-pIb",
        "outputId": "73c0052b-df89-482a-fb57-7a041a01f9a8"
      },
      "execution_count": null,
      "outputs": [
        {
          "output_type": "display_data",
          "data": {
            "text/plain": [
              "Text(value='https://www.example.com', description='URL:', placeholder='Başlangıç URL adresini girin')"
            ],
            "application/vnd.jupyter.widget-view+json": {
              "version_major": 2,
              "version_minor": 0,
              "model_id": "ef9a96697c9f46e38da40303c30eaf97"
            }
          },
          "metadata": {}
        },
        {
          "output_type": "display_data",
          "data": {
            "text/plain": [
              "IntText(value=1, description='Derinlik:')"
            ],
            "application/vnd.jupyter.widget-view+json": {
              "version_major": 2,
              "version_minor": 0,
              "model_id": "074108e08a3b40c4b55b7c64569154d9"
            }
          },
          "metadata": {}
        },
        {
          "output_type": "display_data",
          "data": {
            "text/plain": [
              "Button(description='Başlat', style=ButtonStyle())"
            ],
            "application/vnd.jupyter.widget-view+json": {
              "version_major": 2,
              "version_minor": 0,
              "model_id": "4e64c71156f8447dbd11f54e2a42a904"
            }
          },
          "metadata": {}
        },
        {
          "output_type": "stream",
          "name": "stdout",
          "text": [
            "Tarama tamamlandı, sonuçlar web_scrape_results.txt dosyasına kaydedildi.\n"
          ]
        }
      ]
    }
  ]
}